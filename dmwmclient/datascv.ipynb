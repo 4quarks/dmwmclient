{
 "cells": [
  {
   "cell_type": "code",
   "execution_count": 3,
   "metadata": {},
   "outputs": [
    {
     "ename": "ModuleNotFoundError",
     "evalue": "No module named 'httpx'",
     "output_type": "error",
     "traceback": [
      "\u001b[0;31m---------------------------------------------------------------------------\u001b[0m",
      "\u001b[0;31mModuleNotFoundError\u001b[0m                       Traceback (most recent call last)",
      "\u001b[0;32m<ipython-input-3-35de6d95be9f>\u001b[0m in \u001b[0;36m<module>\u001b[0;34m\u001b[0m\n\u001b[1;32m      1\u001b[0m \u001b[0;31m# %load datasvc.py\u001b[0m\u001b[0;34m\u001b[0m\u001b[0;34m\u001b[0m\u001b[0;34m\u001b[0m\u001b[0m\n\u001b[0;32m----> 2\u001b[0;31m \u001b[0;32mimport\u001b[0m \u001b[0mhttpx\u001b[0m\u001b[0;34m\u001b[0m\u001b[0;34m\u001b[0m\u001b[0m\n\u001b[0m\u001b[1;32m      3\u001b[0m \u001b[0;32mimport\u001b[0m \u001b[0mpandas\u001b[0m\u001b[0;34m\u001b[0m\u001b[0;34m\u001b[0m\u001b[0m\n\u001b[1;32m      4\u001b[0m \u001b[0;32mfrom\u001b[0m \u001b[0;34m.\u001b[0m\u001b[0mutil\u001b[0m \u001b[0;32mimport\u001b[0m \u001b[0mformat_dates\u001b[0m\u001b[0;34m\u001b[0m\u001b[0;34m\u001b[0m\u001b[0m\n\u001b[1;32m      5\u001b[0m \u001b[0;34m\u001b[0m\u001b[0m\n",
      "\u001b[0;31mModuleNotFoundError\u001b[0m: No module named 'httpx'"
     ]
    }
   ],
   "source": [
    "# %load datasvc.py\n",
    "import httpx\n",
    "import pandas\n",
    "from .util import format_dates\n",
    "\n",
    "\n",
    "BLOCKARRIVE_BASISCODE = {\n",
    "    -6: \"no_source\",\n",
    "    -5: \"no_link\",\n",
    "    -4: \"auto_suspend\",\n",
    "    -3: \"no_download_link\",\n",
    "    -2: \"manual_suspend\",\n",
    "    -1: \"block_open\",\n",
    "    0: \"routed\",\n",
    "    1: \"queue_full\",\n",
    "    2: \"rerouting\",\n",
    "}\n",
    "\n",
    "\n",
    "class DataSvc:\n",
    "    \"\"\"PhEDEx datasvc REST API\n",
    "\n",
    "    Full documentation at https://cmsweb.cern.ch/phedex/datasvc/doc\n",
    "    \"\"\"\n",
    "\n",
    "    defaults = {\n",
    "        # PhEDEx datasvc base URL with trailing slash\n",
    "        \"datasvc_base\": \"https://cmsweb.cern.ch/phedex/datasvc/\",\n",
    "        # Options: prod, dev, debug\n",
    "        \"phedex_instance\": \"prod\",\n",
    "    }\n",
    "\n",
    "    def __init__(self, client, datasvc_base=None, phedex_instance=None):\n",
    "        if datasvc_base is None:\n",
    "            datasvc_base = DataSvc.defaults[\"datasvc_base\"]\n",
    "        if phedex_instance is None:\n",
    "            phedex_instance = DataSvc.defaults[\"phedex_instance\"]\n",
    "        self.client = client\n",
    "        self.baseurl = httpx.URL(datasvc_base)\n",
    "        self.jsonurl = self.baseurl.join(\"json/%s/\" % phedex_instance)\n",
    "        self.xmlurl = self.baseurl.join(\"xml/%s/\" % phedex_instance)\n",
    "\n",
    "    async def jsonmethod(self, method, **params):\n",
    "        return await self.client.getjson(url=self.jsonurl.join(method), params=params)\n",
    "\n",
    "    async def blockreplicas(self, **params):\n",
    "        \"\"\"Get block replicas as a pandas dataframe\n",
    "\n",
    "        Parameters\n",
    "        ----------\n",
    "        block          block name, can be multiple (*)\n",
    "        dataset        dataset name, can be multiple (*)\n",
    "        node           node name, can be multiple (*)\n",
    "        se             storage element name, can be multiple (*)\n",
    "        update_since   unix timestamp, only return replicas whose record was\n",
    "                        updated since this time\n",
    "        create_since   unix timestamp, only return replicas whose record was\n",
    "                        created since this time. When no \"dataset\", \"block\"\n",
    "                        or \"node\" are given, create_since is default to 24 hours ago\n",
    "        complete       y or n, whether or not to require complete or incomplete\n",
    "                        blocks. Open blocks cannot be complete.  Default is to\n",
    "                        return either.\n",
    "        dist_complete  y or n, \"distributed complete\".  If y, then returns\n",
    "                        only block replicas for which at least one node has\n",
    "                        all files in the block.  If n, then returns block\n",
    "                        replicas for which no node has all the files in the\n",
    "                        block.  Open blocks cannot be dist_complete.  Default is\n",
    "                        to return either kind of block replica.\n",
    "        subscribed     y or n, filter for subscription. default is to return either.\n",
    "        custodial      y or n. filter for custodial responsibility.  default is\n",
    "                        to return either.\n",
    "        group          group name.  default is to return replicas for any group.\n",
    "        show_dataset   y or n, default n. If y, show dataset information with\n",
    "                        the blocks; if n, only show blocks\n",
    "        \"\"\"\n",
    "        resjson = await self.jsonmethod(\"blockreplicas\", **params)\n",
    "        df = pandas.io.json.json_normalize(\n",
    "            resjson[\"phedex\"][\"block\"],\n",
    "            record_path=\"replica\",\n",
    "            record_prefix=\"replica.\",\n",
    "            meta=[\"bytes\", \"files\", \"name\", \"id\", \"is_open\"],\n",
    "        )\n",
    "        format_dates(df, [\"replica.time_create\", \"replica.time_update\"])\n",
    "        return df\n",
    "    \n",
    "    \n",
    "   \n",
    "        "
   ]
  },
  {
   "cell_type": "code",
   "execution_count": 4,
   "metadata": {},
   "outputs": [
    {
     "ename": "SyntaxError",
     "evalue": "invalid syntax (<ipython-input-4-72c9f13e9adb>, line 1)",
     "output_type": "error",
     "traceback": [
      "\u001b[0;36m  File \u001b[0;32m\"<ipython-input-4-72c9f13e9adb>\"\u001b[0;36m, line \u001b[0;32m1\u001b[0m\n\u001b[0;31m    TERCER CAMBIO\u001b[0m\n\u001b[0m                ^\u001b[0m\n\u001b[0;31mSyntaxError\u001b[0m\u001b[0;31m:\u001b[0m invalid syntax\n"
     ]
    }
   ],
   "source": [
    "TERCER CAMBIO"
   ]
  },
  {
   "cell_type": "code",
   "execution_count": null,
   "metadata": {},
   "outputs": [],
   "source": []
  }
 ],
 "metadata": {
  "kernelspec": {
   "display_name": "Python 3",
   "language": "python",
   "name": "python3"
  },
  "language_info": {
   "codemirror_mode": {
    "name": "ipython",
    "version": 3
   },
   "file_extension": ".py",
   "mimetype": "text/x-python",
   "name": "python",
   "nbconvert_exporter": "python",
   "pygments_lexer": "ipython3",
   "version": "3.7.4"
  }
 },
 "nbformat": 4,
 "nbformat_minor": 2
}
